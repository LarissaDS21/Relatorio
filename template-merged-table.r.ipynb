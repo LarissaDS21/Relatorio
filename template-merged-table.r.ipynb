{
 "cells": [
  {
   "cell_type": "code",
   "execution_count": null,
   "id": "d43ba7d4-9b73-464a-bc79-3615c2776fa8",
   "metadata": {
    "vscode": {
     "languageId": "r"
    }
   },
   "outputs": [],
   "source": [
    "library(tidyverse)\n",
    "library(purrr)"
   ]
  },
  {
   "cell_type": "code",
   "execution_count": null,
   "id": "2e3ed7ce-0ac6-4b73-af3e-a39b0338307a",
   "metadata": {
    "vscode": {
     "languageId": "r"
    }
   },
   "outputs": [],
   "source": [
    "getwd() #pasta em que estou"
   ]
  },
  {
   "cell_type": "code",
   "execution_count": null,
   "id": "3b82dcb7-5f0e-4f65-a91e-6d6f77c52e94",
   "metadata": {
    "scrolled": true,
    "vscode": {
     "languageId": "r"
    }
   },
   "outputs": [],
   "source": [
    "#Modificado\n",
    "#arquivos_jc <- snakemake@input[[\"A3SS_jc_txt\",\"A35S_jc_txt\",\"MXE_jc_txt\",\"RI_jc_txt\",\"SE_jc_txt\"]]\n",
    "# c(snakemake@input[[\"A3SS_jc_txt\"]],snakemake@input[[\"A35S_jc_txt\"]])\n",
    "#lista_de_dfs <- list()"
   ]
  },
  {
   "cell_type": "code",
   "execution_count": null,
   "id": "544f1e10-a7ab-48bf-ab25-3b7a28a45866",
   "metadata": {
    "scrolled": true,
    "vscode": {
     "languageId": "r"
    }
   },
   "outputs": [],
   "source": [
    "#Original\n",
    "arquivos_jc <- snakemake@input[[\"jc_txt\"]]\n",
    "lista_de_dfs <- list()"
   ]
  },
  {
   "cell_type": "code",
   "execution_count": null,
   "id": "d058f8fa-239b-452e-92d6-e13038e66f73",
   "metadata": {
    "scrolled": true,
    "vscode": {
     "languageId": "r"
    }
   },
   "outputs": [],
   "source": [
    "for(arq in arquivos_jc){ #Laço 'for' para intitular cada df com seu respectivo evento e salvar todos em uma lista\n",
    "    b <- str_split(arq,pattern = \"/\",simplify = T) \n",
    "    evento <- str_split(b[ncol(b)],\"[.]\", simplify = T)[1] # Salvando o nome do evento de splice nessa variável\n",
    "    #print (evento)\n",
    "    df <- read_tsv(arq)  #Salvar cada dataframe nessa variável\n",
    "    df$Event <- evento #Cria uma última coluna intitulada'Event' com a string salva na variável evento\n",
    "    lista_de_dfs[[evento]] <- df ## Salvar nessa variável todos os dfs em forma de lista?? Por que tem que colocar [[evento]]?\n",
    "    }\n",
    "\n",
    "#print(lista_de_dfs)\n",
    "df_amostra <- lista_de_dfs %>% reduce(full_join) # União de todos os dfs na variável df_amostra\n",
    "df_amostra$ID...12 <- NULL\n",
    "df_amostra$ID...14 <- NULL\n",
    "df_final <- df_amostra[, c('Event','ID...1','GeneID','geneSymbol','chr','strand','longExonStart_0base','longExonEnd','shortES', #organização das colunas\n",
    "                          'shortEE','flankingES','flankingEE','1stExonStart_0base','1stExonEnd','2ndExonStart_0base','2ndExonEnd',\n",
    "                          'upstreamES','upstreamEE','downstreamES','downstreamEE','riExonStart_0base','riExonEnd','exonStart_0base',\n",
    "                          'exonEnd','IJC_SAMPLE_1','SJC_SAMPLE_1','IJC_SAMPLE_2','SJC_SAMPLE_2','IncFormLen','SkipFormLen','PValue',\n",
    "                          'FDR','IncLevel1','IncLevel2','IncLevelDifference')]\n",
    "write_tsv(df_final, snakemake@output[[\"table_joined_nofilter\"]])\n",
    "df_filtros <- df_final [which(df_final$PValue <= 0.05 & df_final$FDR <= 0.05 \n",
    "                            & (df_final$IncLevelDifference >= 0.05 | df_final$IncLevelDifference <=-0.05)),]\n",
    "write_tsv(df_filtros, snakemake@output[[\"table_joined_filtered\"]])\n"
   ]
  },
  {
   "cell_type": "code",
   "execution_count": null,
   "id": "1eb80f30-5821-466e-b405-c1f23cbdcd45",
   "metadata": {
    "vscode": {
     "languageId": "r"
    }
   },
   "outputs": [],
   "source": [
    "#list.amostras <- list.dirs(path=\".\",recursive = F)\n",
    "#list.amostras"
   ]
  },
  {
   "cell_type": "code",
   "execution_count": null,
   "id": "53b263ba-8303-4ef4-92d9-65505398d5c0",
   "metadata": {
    "scrolled": true,
    "vscode": {
     "languageId": "r"
    }
   },
   "outputs": [],
   "source": [
    "##Original modificado\n",
    "#for(amostra in list.amostras){\n",
    "    #print(amostra)\n",
    "#    nome_amostra <- str_split(amostra,\"/\")[[1]][2]\n",
    "    #print(nome_amostra)\n",
    "#    if(str_starts(nome_amostra, \"RNAP\")){ #Selecionar apenas os arquivos que possuem o início \"RNAP\"\n",
    "        #print(nome_amostra)\n",
    "#        arquivos_jc <- list.files(path = nome_amostra,pattern = \"*.JC.txt\", full.names = T) # Selecionar todos os arquivos JC.txt em cada pasta\n",
    "        #print(arquivos_jc)\n",
    "#        lista_de_dfs <- list() ##criou uma lista vazia para colocar os dataframes\n",
    "        #print (lista_de_dfs)\n",
    "#        for(arq in arquivos_jc){ #Laço 'for' para intitular cada df com seu respectivo evento e salvar todos em uma lista\n",
    "#            b <- str_split(arq,pattern = \"/\",simplify = T) \n",
    "#            evento <- str_split(b[ncol(b)],\"[.]\", simplify = T)[1] # Salvando o nome do evento de splice nessa variável\n",
    "#            #print (evento)\n",
    "#            df <- read_tsv(arq)  #Salvar cada dataframe nessa variável\n",
    "#            df$Event <- evento #Cria uma última coluna intitulada'Event' com a string salva na variável evento\n",
    "#            lista_de_dfs[[evento]] <- df ## Salvar nessa variável todos os dfs em forma de lista?? Por que tem que colocar [[evento]]?\n",
    "#        }\n",
    "#        print(lista_de_dfs)\n",
    "#        df_amostra <- lista_de_dfs %>% reduce(full_join) # União de todos os dfs na variável df_amostra\n",
    "#        df_amostra$ID...12 <- NULL\n",
    "#        df_amostra$ID...14 <- NULL\n",
    "#        df_final <- df_amostra[, c('Event','ID...1','GeneID','geneSymbol','chr','strand','longExonStart_0base','longExonEnd','shortES', #organização das colunas\n",
    "#                          'shortEE','flankingES','flankingEE','1stExonStart_0base','1stExonEnd','2ndExonStart_0base','2ndExonEnd',\n",
    "#                          'upstreamES','upstreamEE','downstreamES','downstreamEE','riExonStart_0base','riExonEnd','exonStart_0base',\n",
    "#                          'exonEnd','IJC_SAMPLE_1','SJC_SAMPLE_1','IJC_SAMPLE_2','SJC_SAMPLE_2','IncFormLen','SkipFormLen','PValue',\n",
    "#                          'FDR','IncLevel1','IncLevel2','IncLevelDifference')]\n",
    "#        write_tsv(df_final, paste0(\"merged-rmats-tables/\",nome_amostra,\"/\",nome_amostra,\"_noFilter.tsv\"))\n",
    "#        df_filtros <- df_final [which(df_final$PValue <= 0.05 & df_final$FDR <= 0.05 \n",
    "#                            & (df_final$IncLevelDifference >= 0.05 | df_final$IncLevelDifference <=-0.05)),]\n",
    "#        write_tsv(df_filtros, paste0(\"merged-rmats-tables/\",nome_amostra,\"/\",nome_amostra,\"_AS-filtrados.tsv\"))\n",
    "#    }\n",
    "#}"
   ]
  },
  {
   "cell_type": "code",
   "execution_count": null,
   "id": "df76f565-2e28-4313-9840-cbc974aca238",
   "metadata": {
    "vscode": {
     "languageId": "r"
    }
   },
   "outputs": [],
   "source": [
    "##ORIGINAL\n",
    "#for(amostra in list.amostras[1:5]){\n",
    "    # print(amostra)\n",
    "#    a <- str_split(amostra,\"/\")[[1]][2]\n",
    "#    print(a)\n",
    "#    if(str_starts(a, \"RNAP\")){\n",
    "        # print(a)\n",
    "#        fls <- list.files(path = a,pattern = \"*.JC.txt\", full.names = T)\n",
    "#        print(fls)\n",
    "#        list_de_dfs <- list()\n",
    "#        for(arq in fls){\n",
    "#            b <- str_split(arq,pattern = \"/\",simplify = T) \n",
    "#            event <- str_split(b[ncol(b)],\"[.]\", simplify = T)[1] # Salvando o nome do evento nessa variável\n",
    "            # event\n",
    "#            df <- read_tsv(arq)  # Guarda a tabela 'A3SS.MATS.JC.txt' na variável 'df_a'\n",
    "#            df$Event <- event #Cria uma última coluna 'Event' com a string 'A3SS'\n",
    "            # df %>% head #Ver as primeiras linhas para ver se está certo\n",
    "#            list_de_dfs[[event]] <- df\n",
    "#        }\n",
    "        # print(list_de_dfs)\n",
    "#        df_amostra <- list_de_dfs %>% reduce(full_join)\n",
    "#        df_amostra$ID...12 <- NULL\n",
    "#        df_amostra$ID...14 <- NULL\n",
    "#        df_final <- df_amostra[, c('Event','ID...1','GeneID','geneSymbol','chr','strand','longExonStart_0base','longExonEnd','shortES',\n",
    "#                          'shortEE','flankingES','flankingEE','1stExonStart_0base','1stExonEnd','2ndExonStart_0base','2ndExonEnd',\n",
    "#                          'upstreamES','upstreamEE','downstreamES','downstreamEE','riExonStart_0base','riExonEnd','exonStart_0base',\n",
    "#                          'exonEnd','IJC_SAMPLE_1','SJC_SAMPLE_1','IJC_SAMPLE_2','SJC_SAMPLE_2','IncFormLen','SkipFormLen','PValue',\n",
    "#                          'FDR','IncLevel1','IncLevel2','IncLevelDifference')]\n",
    "#        write_tsv(df_final, paste0(\"merged-rmats-tables/\",a,\"/\",a,\"_noFilter.tsv\"))\n",
    "#    }\n",
    "#}"
   ]
  }
 ],
 "metadata": {
  "kernelspec": {
   "display_name": "R",
   "language": "R",
   "name": "ir"
  },
  "language_info": {
   "codemirror_mode": "r",
   "file_extension": ".r",
   "mimetype": "text/x-r-source",
   "name": "R",
   "pygments_lexer": "r",
   "version": "4.2.2"
  }
 },
 "nbformat": 4,
 "nbformat_minor": 5
}
